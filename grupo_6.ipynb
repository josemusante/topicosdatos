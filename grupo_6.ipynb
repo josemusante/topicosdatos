{
 "cells": [
  {
   "cell_type": "code",
   "execution_count": 3,
   "metadata": {},
   "outputs": [],
   "source": [
    "import numpy as np\n",
    "import pandas as pd\n",
    "import matplotlib.pyplot as plt\n",
    "import statsmodels.api as sm"
   ]
  },
  {
   "cell_type": "code",
   "execution_count": 4,
   "metadata": {},
   "outputs": [
    {
     "data": {
      "text/html": [
       "<div>\n",
       "<style scoped>\n",
       "    .dataframe tbody tr th:only-of-type {\n",
       "        vertical-align: middle;\n",
       "    }\n",
       "\n",
       "    .dataframe tbody tr th {\n",
       "        vertical-align: top;\n",
       "    }\n",
       "\n",
       "    .dataframe thead th {\n",
       "        text-align: right;\n",
       "    }\n",
       "</style>\n",
       "<table border=\"1\" class=\"dataframe\">\n",
       "  <thead>\n",
       "    <tr style=\"text-align: right;\">\n",
       "      <th></th>\n",
       "      <th>substation</th>\n",
       "      <th>date</th>\n",
       "      <th>consumption</th>\n",
       "    </tr>\n",
       "  </thead>\n",
       "  <tbody>\n",
       "    <tr>\n",
       "      <th>0</th>\n",
       "      <td>AJAHUEL</td>\n",
       "      <td>2018-01-01 00:00:00</td>\n",
       "      <td>137.330840</td>\n",
       "    </tr>\n",
       "    <tr>\n",
       "      <th>1</th>\n",
       "      <td>AJAHUEL</td>\n",
       "      <td>2018-01-01 01:00:00</td>\n",
       "      <td>124.045549</td>\n",
       "    </tr>\n",
       "    <tr>\n",
       "      <th>2</th>\n",
       "      <td>AJAHUEL</td>\n",
       "      <td>2018-01-01 02:00:00</td>\n",
       "      <td>118.137811</td>\n",
       "    </tr>\n",
       "    <tr>\n",
       "      <th>3</th>\n",
       "      <td>AJAHUEL</td>\n",
       "      <td>2018-01-01 03:00:00</td>\n",
       "      <td>107.899499</td>\n",
       "    </tr>\n",
       "    <tr>\n",
       "      <th>4</th>\n",
       "      <td>AJAHUEL</td>\n",
       "      <td>2018-01-01 04:00:00</td>\n",
       "      <td>100.362069</td>\n",
       "    </tr>\n",
       "  </tbody>\n",
       "</table>\n",
       "</div>"
      ],
      "text/plain": [
       "  substation                 date  consumption\n",
       "0    AJAHUEL  2018-01-01 00:00:00   137.330840\n",
       "1    AJAHUEL  2018-01-01 01:00:00   124.045549\n",
       "2    AJAHUEL  2018-01-01 02:00:00   118.137811\n",
       "3    AJAHUEL  2018-01-01 03:00:00   107.899499\n",
       "4    AJAHUEL  2018-01-01 04:00:00   100.362069"
      ]
     },
     "execution_count": 4,
     "metadata": {},
     "output_type": "execute_result"
    }
   ],
   "source": [
    "df=pd.read_csv(\"train.csv\",sep=\",\")\n",
    "\n",
    "\n",
    "df.head()"
   ]
  },
  {
   "cell_type": "code",
   "execution_count": 50,
   "metadata": {},
   "outputs": [
    {
     "name": "stdout",
     "output_type": "stream",
     "text": [
      "Index(['substation,date,consumption'], dtype='object')\n"
     ]
    }
   ],
   "source": [
    "print(df.columns)"
   ]
  },
  {
   "cell_type": "code",
   "execution_count": 5,
   "metadata": {},
   "outputs": [
    {
     "name": "stdout",
     "output_type": "stream",
     "text": [
      "['AJAHUEL' 'BUIN' 'CHENA' 'CNAVIA' 'ELSALTO' 'FLORIDA' 'LOSALME']\n"
     ]
    }
   ],
   "source": [
    "estacion = df['substation'].unique()\n",
    "\n",
    "print(estacion)\n",
    "\n"
   ]
  },
  {
   "cell_type": "code",
   "execution_count": null,
   "metadata": {},
   "outputs": [
    {
     "name": "stdout",
     "output_type": "stream",
     "text": [
      "<class 'pandas.core.frame.DataFrame'>\n",
      "RangeIndex: 244391 entries, 0 to 244390\n",
      "Data columns (total 1 columns):\n",
      " #   Column                       Non-Null Count   Dtype \n",
      "---  ------                       --------------   ----- \n",
      " 0   substation,date,consumption  244391 non-null  object\n",
      "dtypes: object(1)\n",
      "memory usage: 1.9+ MB\n"
     ]
    }
   ],
   "source": [
    "df.info()"
   ]
  },
  {
   "cell_type": "code",
   "execution_count": 8,
   "metadata": {},
   "outputs": [],
   "source": [
    "dfs_AJAHUEL = df[df['substation'] == 'AJAHUEL']\n",
    "dfs_BUIN = df[df['substation'] == 'BUIN']\n",
    "dfs_CHENA = df[df['substation'] == 'CHENA']\n",
    "dfs_CNAVIA = df[df['substation'] == 'CNAVIA']\n",
    "dfs_AJAHUEL = df[df['substation'] == 'AJAHUEL']\n",
    "dfs_BUIN = df[df['substation'] == 'BUIN']\n",
    "dfs_CHENA = df[df['substation'] == 'CHENA']\n",
    "dfs_CNAVIA = df[df['substation'] == 'CNAVIA']\n",
    "dfs_ELSALTO = df[df['substation'] == 'ELSALTO']\n",
    "dfs_FLORIDA = df[df['substation'] == 'FLORIDA']\n",
    "dfs_LOSALME = df[df['substation'] == 'LOSALME']"
   ]
  },
  {
   "cell_type": "code",
   "execution_count": 18,
   "metadata": {},
   "outputs": [
    {
     "data": {
      "text/plain": [
       "array([137.33084 , 124.045549, 118.137811, ..., 132.565346, 140.93373 ,\n",
       "       120.67177 ])"
      ]
     },
     "execution_count": 18,
     "metadata": {},
     "output_type": "execute_result"
    }
   ],
   "source": [
    "y_ajahuel = dfs_AJAHUEL['consumption'].to_numpy()\n",
    "\n",
    "y_ajahuel"
   ]
  },
  {
   "cell_type": "code",
   "execution_count": 17,
   "metadata": {},
   "outputs": [
    {
     "data": {
      "text/plain": [
       "array(['2018-01-01 00:00:00', '2018-01-01 01:00:00',\n",
       "       '2018-01-01 02:00:00', ..., '2021-12-31 21:00:00',\n",
       "       '2021-12-31 22:00:00', '2021-12-31 23:00:00'], dtype=object)"
      ]
     },
     "execution_count": 17,
     "metadata": {},
     "output_type": "execute_result"
    }
   ],
   "source": [
    "x_ajauhuel = dfs_AJAHUEL['date'].to_numpy()\n",
    "\n",
    "x_ajauhuel\n"
   ]
  },
  {
   "cell_type": "code",
   "execution_count": null,
   "metadata": {},
   "outputs": [
    {
     "data": {
      "text/plain": [
       "(34913, 3)"
      ]
     },
     "execution_count": 69,
     "metadata": {},
     "output_type": "execute_result"
    }
   ],
   "source": [
    "x_ajauhuel.shape"
   ]
  },
  {
   "cell_type": "code",
   "execution_count": null,
   "metadata": {},
   "outputs": [
    {
     "data": {
      "text/plain": [
       "array([['BUIN', '2018-01-01 00:00:00', -1.4697239999999936],\n",
       "       ['BUIN', '2018-01-01 01:00:00', -1.485836999999998],\n",
       "       ['BUIN', '2018-01-01 02:00:00', -1.5091460000000096],\n",
       "       ...,\n",
       "       ['BUIN', '2021-12-31 21:00:00', -1.038190999999994],\n",
       "       ['BUIN', '2021-12-31 22:00:00', -1.048852000000005],\n",
       "       ['BUIN', '2021-12-31 23:00:00', -1.2236429999999898]], dtype=object)"
      ]
     },
     "execution_count": 71,
     "metadata": {},
     "output_type": "execute_result"
    }
   ],
   "source": [
    "x_buin = dfs_BUIN['date'].to_numpy()\n",
    "\n",
    "\n",
    "x_buin"
   ]
  },
  {
   "cell_type": "code",
   "execution_count": null,
   "metadata": {},
   "outputs": [
    {
     "data": {
      "text/plain": [
       "(34913, 3)"
      ]
     },
     "execution_count": 73,
     "metadata": {},
     "output_type": "execute_result"
    }
   ],
   "source": [
    "x_buin.shape"
   ]
  },
  {
   "cell_type": "code",
   "execution_count": null,
   "metadata": {},
   "outputs": [
    {
     "data": {
      "text/plain": [
       "array([['CHENA', '2018-01-01 00:00:00', 164.664089],\n",
       "       ['CHENA', '2018-01-01 01:00:00', 151.83142199999998],\n",
       "       ['CHENA', '2018-01-01 02:00:00', 148.108589],\n",
       "       ...,\n",
       "       ['CHENA', '2021-12-31 21:00:00', 190.696882],\n",
       "       ['CHENA', '2021-12-31 22:00:00', 201.432506],\n",
       "       ['CHENA', '2021-12-31 23:00:00', 187.584894]], dtype=object)"
      ]
     },
     "execution_count": 74,
     "metadata": {},
     "output_type": "execute_result"
    }
   ],
   "source": [
    "x_chena = dfs_CHENA['date'].to_numpy()\n",
    "\n",
    "\n",
    "x_chena"
   ]
  },
  {
   "cell_type": "code",
   "execution_count": null,
   "metadata": {},
   "outputs": [
    {
     "data": {
      "text/plain": [
       "array([['CNAVIA', '2018-01-01 00:00:00', 323.805217],\n",
       "       ['CNAVIA', '2018-01-01 01:00:00', 300.024568],\n",
       "       ['CNAVIA', '2018-01-01 02:00:00', 292.70396900000003],\n",
       "       ...,\n",
       "       ['CNAVIA', '2021-12-31 21:00:00', 385.109984],\n",
       "       ['CNAVIA', '2021-12-31 22:00:00', 399.074645],\n",
       "       ['CNAVIA', '2021-12-31 23:00:00', 370.8354]], dtype=object)"
      ]
     },
     "execution_count": 75,
     "metadata": {},
     "output_type": "execute_result"
    }
   ],
   "source": [
    "x_cnavia =dfs_CNAVIA['date'].to_numpy()\n",
    "\n",
    "x_cnavia"
   ]
  },
  {
   "cell_type": "code",
   "execution_count": null,
   "metadata": {},
   "outputs": [
    {
     "data": {
      "text/plain": [
       "array([['ELSALTO', '2018-01-01 00:00:00', 212.495636],\n",
       "       ['ELSALTO', '2018-01-01 01:00:00', 200.802108],\n",
       "       ['ELSALTO', '2018-01-01 02:00:00', 189.173441],\n",
       "       ...,\n",
       "       ['ELSALTO', '2021-12-31 21:00:00', 409.117559],\n",
       "       ['ELSALTO', '2021-12-31 22:00:00', 434.118976],\n",
       "       ['ELSALTO', '2021-12-31 23:00:00', 417.365033]], dtype=object)"
      ]
     },
     "execution_count": 76,
     "metadata": {},
     "output_type": "execute_result"
    }
   ],
   "source": [
    "x_elsalto = dfs_ELSALTO['date'].to_numpy()\n",
    "\n",
    "\n",
    "x_elsalto"
   ]
  },
  {
   "cell_type": "code",
   "execution_count": null,
   "metadata": {},
   "outputs": [
    {
     "data": {
      "text/plain": [
       "array([['FLORIDA', '2018-01-01 00:00:00', 0.219616000000002],\n",
       "       ['FLORIDA', '2018-01-01 01:00:00', 0.1029799999999951],\n",
       "       ['FLORIDA', '2018-01-01 02:00:00', 0.099852000000002],\n",
       "       ...,\n",
       "       ['FLORIDA', '2021-12-31 21:00:00', -10.473265999999995],\n",
       "       ['FLORIDA', '2021-12-31 22:00:00', -11.318995],\n",
       "       ['FLORIDA', '2021-12-31 23:00:00', -11.189608999999995]],\n",
       "      dtype=object)"
      ]
     },
     "execution_count": 77,
     "metadata": {},
     "output_type": "execute_result"
    }
   ],
   "source": [
    "x_florida = dfs_FLORIDA['date'].to_numpy()\n",
    "\n",
    "x_florida\n"
   ]
  },
  {
   "cell_type": "code",
   "execution_count": 78,
   "metadata": {},
   "outputs": [
    {
     "data": {
      "text/plain": [
       "array([['LOSALME', '2018-01-01 00:00:00', 218.675048],\n",
       "       ['LOSALME', '2018-01-01 01:00:00', 202.25676500000003],\n",
       "       ['LOSALME', '2018-01-01 02:00:00', 195.217009],\n",
       "       ...,\n",
       "       ['LOSALME', '2021-12-31 21:00:00', 160.167061],\n",
       "       ['LOSALME', '2021-12-31 22:00:00', 169.69406],\n",
       "       ['LOSALME', '2021-12-31 23:00:00', 159.295008]], dtype=object)"
      ]
     },
     "execution_count": 78,
     "metadata": {},
     "output_type": "execute_result"
    }
   ],
   "source": [
    "x_losalme = dfs_LOSALME['date'].to_numpy()\n",
    "\n",
    "\n",
    "x_losalme"
   ]
  },
  {
   "cell_type": "code",
   "execution_count": null,
   "metadata": {},
   "outputs": [
    {
     "data": {
      "text/plain": [
       "[<matplotlib.lines.Line2D at 0x1f11b5f1150>]"
      ]
     },
     "execution_count": 19,
     "metadata": {},
     "output_type": "execute_result"
    }
   ],
   "source": [
    "plt.plot(x_ajauhuel,y_ajahuel)"
   ]
  },
  {
   "cell_type": "code",
   "execution_count": null,
   "metadata": {},
   "outputs": [],
   "source": [
    "y_buin = dfs_BUIN['consumption'].to_numpy()\n",
    "\n",
    "y_buin"
   ]
  },
  {
   "cell_type": "code",
   "execution_count": null,
   "metadata": {},
   "outputs": [],
   "source": [
    "plt.plot(x_buin,y_buin)"
   ]
  },
  {
   "cell_type": "code",
   "execution_count": null,
   "metadata": {},
   "outputs": [],
   "source": [
    "y_chena = dfs_CHENA['consumption'].to_numpy()"
   ]
  },
  {
   "cell_type": "code",
   "execution_count": null,
   "metadata": {},
   "outputs": [],
   "source": [
    "plt.plot(x_chena,y_chena)"
   ]
  }
 ],
 "metadata": {
  "kernelspec": {
   "display_name": "Python 3",
   "language": "python",
   "name": "python3"
  },
  "language_info": {
   "codemirror_mode": {
    "name": "ipython",
    "version": 3
   },
   "file_extension": ".py",
   "mimetype": "text/x-python",
   "name": "python",
   "nbconvert_exporter": "python",
   "pygments_lexer": "ipython3",
   "version": "3.10.0"
  }
 },
 "nbformat": 4,
 "nbformat_minor": 2
}
